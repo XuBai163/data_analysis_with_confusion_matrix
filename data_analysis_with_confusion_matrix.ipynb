{
 "cells": [
  {
   "cell_type": "code",
   "execution_count": 1,
   "id": "4f725d3f",
   "metadata": {},
   "outputs": [],
   "source": [
    "# import packages \n",
    "import pandas as pd\n",
    "import numpy as np\n",
    "from matplotlib import pyplot as plt\n",
    "from sklearn.covariance import EllipticEnvelope\n",
    "from sklearn.model_selection import train_test_split\n",
    "from sklearn.neighbors import KNeighborsClassifier\n",
    "from sklearn.metrics import accuracy_score, confusion_matrix"
   ]
  },
  {
   "cell_type": "code",
   "execution_count": 2,
   "id": "5bf3ad8e",
   "metadata": {},
   "outputs": [
    {
     "data": {
      "text/html": [
       "<div>\n",
       "<style scoped>\n",
       "    .dataframe tbody tr th:only-of-type {\n",
       "        vertical-align: middle;\n",
       "    }\n",
       "\n",
       "    .dataframe tbody tr th {\n",
       "        vertical-align: top;\n",
       "    }\n",
       "\n",
       "    .dataframe thead th {\n",
       "        text-align: right;\n",
       "    }\n",
       "</style>\n",
       "<table border=\"1\" class=\"dataframe\">\n",
       "  <thead>\n",
       "    <tr style=\"text-align: right;\">\n",
       "      <th></th>\n",
       "      <th>x1</th>\n",
       "      <th>x2</th>\n",
       "      <th>y</th>\n",
       "    </tr>\n",
       "  </thead>\n",
       "  <tbody>\n",
       "    <tr>\n",
       "      <th>0</th>\n",
       "      <td>0.77</td>\n",
       "      <td>3.97</td>\n",
       "      <td>0</td>\n",
       "    </tr>\n",
       "    <tr>\n",
       "      <th>1</th>\n",
       "      <td>1.71</td>\n",
       "      <td>2.81</td>\n",
       "      <td>0</td>\n",
       "    </tr>\n",
       "    <tr>\n",
       "      <th>2</th>\n",
       "      <td>2.18</td>\n",
       "      <td>1.31</td>\n",
       "      <td>0</td>\n",
       "    </tr>\n",
       "    <tr>\n",
       "      <th>3</th>\n",
       "      <td>3.80</td>\n",
       "      <td>0.69</td>\n",
       "      <td>0</td>\n",
       "    </tr>\n",
       "    <tr>\n",
       "      <th>4</th>\n",
       "      <td>5.21</td>\n",
       "      <td>1.14</td>\n",
       "      <td>0</td>\n",
       "    </tr>\n",
       "  </tbody>\n",
       "</table>\n",
       "</div>"
      ],
      "text/plain": [
       "     x1    x2  y\n",
       "0  0.77  3.97  0\n",
       "1  1.71  2.81  0\n",
       "2  2.18  1.31  0\n",
       "3  3.80  0.69  0\n",
       "4  5.21  1.14  0"
      ]
     },
     "execution_count": 2,
     "metadata": {},
     "output_type": "execute_result"
    }
   ],
   "source": [
    "# load data\n",
    "data = pd.read_csv('data_class_raw.csv')\n",
    "data.head()"
   ]
  },
  {
   "cell_type": "code",
   "execution_count": 3,
   "id": "55d15c5e",
   "metadata": {},
   "outputs": [],
   "source": [
    "# define X and y \n",
    "X = data.drop(['y'], axis = 1)\n",
    "y = data.loc[:, 'y']"
   ]
  },
  {
   "cell_type": "code",
   "execution_count": 4,
   "id": "d441e7a8",
   "metadata": {},
   "outputs": [
    {
     "data": {
      "image/png": "[encoded data removed]",
      "text/plain": [
       "<Figure size 432x288 with 1 Axes>"
      ]
     },
     "metadata": {
      "needs_background": "light"
     },
     "output_type": "display_data"
    }
   ],
   "source": [
    "# visualize the data \n",
    "fig1 = plt.figure()\n",
    "\n",
    "bad = plt.scatter(X.loc[:, 'x1'][y == 0], X.loc[:, 'x2'][y == 0])\n",
    "good = plt.scatter(X.loc[:, 'x1'][y == 1], X.loc[:, 'x2'][y == 1])\n",
    "\n",
    "plt.legend((good, bad), ('good', 'bad'))\n",
    "\n",
    "plt.show()"
   ]
  },
  {
   "cell_type": "code",
   "execution_count": 5,
   "id": "fc2ab7e3",
   "metadata": {},
   "outputs": [],
   "source": [
    "# anomaly data detection\n",
    "ad_model = EllipticEnvelope(contamination = 0.02)\n",
    "ad_model.fit(X[y == 0])\n",
    "y_predict_bad = ad_model.predict(X[y==0])"
   ]
  },
  {
   "cell_type": "code",
   "execution_count": 6,
   "id": "9c1b0180",
   "metadata": {},
   "outputs": [
    {
     "data": {
      "image/png": "[encoded data removed]",
      "text/plain": [
       "<Figure size 432x288 with 1 Axes>"
      ]
     },
     "metadata": {
      "needs_background": "light"
     },
     "output_type": "display_data"
    }
   ],
   "source": [
    "# visualize anomaly data \n",
    "fig2 = plt.figure()\n",
    "\n",
    "bad = plt.scatter(X.loc[:, 'x1'][y == 0], X.loc[:, 'x2'][y == 0])\n",
    "good = plt.scatter(X.loc[:, 'x1'][y == 1], X.loc[:, 'x2'][y == 1])\n",
    "\n",
    "plt.scatter(X.loc[:,'x1'][y == 0][y_predict_bad == -1], X.loc[:, 'x2'][y == 0][y_predict_bad == -1], marker='x', s=150)\n",
    "\n",
    "plt.legend((good, bad), ('good', 'bad'))\n",
    "\n",
    "plt.title('raw data')\n",
    "plt.xlabel('x1')\n",
    "plt.ylabel('x2')\n",
    "\n",
    "plt.show()"
   ]
  },
  {
   "cell_type": "code",
   "execution_count": 7,
   "id": "752e984b",
   "metadata": {},
   "outputs": [],
   "source": [
    "# split training and testing data \n",
    "X_train, X_test, y_train, y_test = train_test_split(X, y, random_state = 4, test_size = 0.4)"
   ]
  },
  {
   "cell_type": "code",
   "execution_count": 8,
   "id": "0213e84a",
   "metadata": {},
   "outputs": [],
   "source": [
    "# make prediction with KNN model \n",
    "knn_model = KNeighborsClassifier(n_neighbors = 10)\n",
    "knn_model.fit(X_train, y_train)\n",
    "y_predict_train = knn_model.predict(X_train)\n",
    "y_predict_test = knn_model.predict(X_test)"
   ]
  },
  {
   "cell_type": "code",
   "execution_count": 9,
   "id": "eb71720d",
   "metadata": {},
   "outputs": [
    {
     "name": "stdout",
     "output_type": "stream",
     "text": [
      "training data accuracy:  0.9047619047619048 \n",
      "testing data accuracy:  0.5333333333333333\n"
     ]
    }
   ],
   "source": [
    "# evaluate the performance \n",
    "accuracy_train = accuracy_score(y_train, y_predict_train)\n",
    "accuracy_test = accuracy_score(y_test, y_predict_test)\n",
    "print('training data accuracy: ', accuracy_train, '\\ntesting data accuracy: ', accuracy_test)"
   ]
  },
  {
   "cell_type": "code",
   "execution_count": 10,
   "id": "e1120dfc",
   "metadata": {},
   "outputs": [
    {
     "name": "stdout",
     "output_type": "stream",
     "text": [
      "[[4 3]\n",
      " [4 4]]\n"
     ]
    }
   ],
   "source": [
    "# further analysis the performance of the model with confusion matrix \n",
    "cm = confusion_matrix(y_test, y_predict_test)\n",
    "print(cm)"
   ]
  },
  {
   "cell_type": "code",
   "execution_count": 11,
   "id": "518e1c38",
   "metadata": {},
   "outputs": [],
   "source": [
    "# extracting values form the matrix \n",
    "TP = cm[1, 1] # true_positive\n",
    "TN = cm[0, 0] # true_negative\n",
    "FP = cm[0, 1] # false_positive\n",
    "FN = cm[1, 0] # false_negative"
   ]
  },
  {
   "cell_type": "code",
   "execution_count": 12,
   "id": "1469b9bd",
   "metadata": {},
   "outputs": [
    {
     "name": "stdout",
     "output_type": "stream",
     "text": [
      "Accuracy:  0.5333333333333333 \n",
      "Recall:  0.5 \n",
      "Specificity:  0.5714285714285714 \n",
      "Precision:  0.5714285714285714 \n",
      "F1 score:  0.5333333333333333\n"
     ]
    }
   ],
   "source": [
    "# calculating more metricses: Accuracy, Missclassification rate, Recall, Specificity, Precision, F1 score\n",
    "accuracy = (TP + TN)/(TP + TN + FP + FN)\n",
    "recall = TP/(TP + FN)\n",
    "specificity = TN/(TN + FP)\n",
    "precision = TP/(TP + FP)\n",
    "f1 = 2*precision*recall/(precision+recall)\n",
    "\n",
    "print('Accuracy: ', accuracy, '\\nRecall: ', recall, '\\nSpecificity: ', specificity, '\\nPrecision: ', precision, '\\nF1 score: ', f1)"
   ]
  },
  {
   "cell_type": "code",
   "execution_count": 16,
   "id": "cac5c9b3",
   "metadata": {},
   "outputs": [],
   "source": [
    "# try different k numbers and evaluate the performance\n",
    "n = [i for i in range(1, 21)]\n",
    "accuracy_train = []\n",
    "accuracy_test = []\n",
    "for i in n:\n",
    "    knn_model2 = KNeighborsClassifier(n_neighbors = i)\n",
    "    knn_model2.fit(X_train, y_train)\n",
    "    \n",
    "    y_predict_train = knn_model2.predict(X_train)\n",
    "    y_predict_test = knn_model2.predict(X_test)\n",
    "    \n",
    "    accuracy_train_i = accuracy_score(y_train, y_predict_train)\n",
    "    accuracy_test_i = accuracy_score(y_test, y_predict_test)\n",
    "    \n",
    "    accuracy_train.append(accuracy_train_i)\n",
    "    accuracy_test.append(accuracy_test_i)"
   ]
  },
  {
   "cell_type": "code",
   "execution_count": 18,
   "id": "d9a0eb1f",
   "metadata": {},
   "outputs": [
    {
     "data": {
      "image/png": "[encoded data removed]",
      "text/plain": [
       "<Figure size 864x360 with 2 Axes>"
      ]
     },
     "metadata": {
      "needs_background": "light"
     },
     "output_type": "display_data"
    }
   ],
   "source": [
    "# visualize the result\n",
    "fig3 = plt.figure(figsize=(12, 5))\n",
    "\n",
    "plt.subplot(121)\n",
    "plt.plot(n, accuracy_test, marker = 'o')\n",
    "plt.title('training accuracy vs n_neighbors')\n",
    "plt.xlabel('n_neighbors')\n",
    "plt.ylabel('accuracy')\n",
    "\n",
    "plt.subplot(122)\n",
    "plt.plot(n, accuracy_test, marker = 'o')\n",
    "plt.title('testing accuracy vs n_neighbors')\n",
    "plt.xlabel('n_neighbors')\n",
    "plt.ylabel('accuracy')\n",
    "\n",
    "plt.show()"
   ]
  }
 ],
 "metadata": {
  "kernelspec": {
   "display_name": "Python 3",
   "language": "python",
   "name": "python3"
  },
  "language_info": {
   "codemirror_mode": {
    "name": "ipython",
    "version": 3
   },
   "file_extension": ".py",
   "mimetype": "text/x-python",
   "name": "python",
   "nbconvert_exporter": "python",
   "pygments_lexer": "ipython3",
   "version": "3.7.5"
  }
 },
 "nbformat": 4,
 "nbformat_minor": 5
}
